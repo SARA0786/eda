{
 "cells": [
  {
   "cell_type": "code",
   "execution_count": null,
   "id": "7411774f-ef70-4dbf-9e3f-054a2da00f2e",
   "metadata": {},
   "outputs": [],
   "source": [
    "-representations\n",
    "-type\n",
    "-len\n",
    "-max\n",
    "-min\n",
    "-sorted\n",
    "-reversed\n",
    "-in\n",
    "-for loop\n",
    "-index\n",
    "-for loop index\n",
    "-mutable\n",
    "-concatenation\n",
    "-slicing\n",
    "-methods"
   ]
  },
  {
   "cell_type": "code",
   "execution_count": null,
   "id": "93c01596-e681-488d-923c-1b30b047fc0f",
   "metadata": {},
   "outputs": [],
   "source": [
    "#representation\n",
    "-string represntation with quotes \" \"\n",
    "-list with square []\n"
   ]
  },
  {
   "cell_type": "code",
   "execution_count": 1,
   "id": "36a1bcdb-04b8-4bb7-a37b-9d9a6d987286",
   "metadata": {},
   "outputs": [
    {
     "data": {
      "text/plain": [
       "[1, 2, 3, 4]"
      ]
     },
     "execution_count": 1,
     "metadata": {},
     "output_type": "execute_result"
    }
   ],
   "source": [
    "l1=[1,2,3,4]\n",
    "l1"
   ]
  },
  {
   "cell_type": "code",
   "execution_count": 2,
   "id": "985e2f47-f24e-432c-a20b-398ec994eadb",
   "metadata": {},
   "outputs": [
    {
     "data": {
      "text/plain": [
       "list"
      ]
     },
     "execution_count": 2,
     "metadata": {},
     "output_type": "execute_result"
    }
   ],
   "source": [
    "type(l1)"
   ]
  },
  {
   "cell_type": "code",
   "execution_count": 3,
   "id": "60831234-b32b-45dd-856b-69997a85ed75",
   "metadata": {},
   "outputs": [
    {
     "data": {
      "text/plain": [
       "4"
      ]
     },
     "execution_count": 3,
     "metadata": {},
     "output_type": "execute_result"
    }
   ],
   "source": [
    "len(l1)"
   ]
  },
  {
   "cell_type": "code",
   "execution_count": 4,
   "id": "cd42be94-4269-465d-82be-f83cf3ca866e",
   "metadata": {},
   "outputs": [
    {
     "data": {
      "text/plain": [
       "4"
      ]
     },
     "execution_count": 4,
     "metadata": {},
     "output_type": "execute_result"
    }
   ],
   "source": [
    "max(l1)"
   ]
  },
  {
   "cell_type": "code",
   "execution_count": 5,
   "id": "8a1688e0-f095-4303-b703-c5d3cf6befb6",
   "metadata": {},
   "outputs": [
    {
     "data": {
      "text/plain": [
       "['a', 'b', 'c', 'd']"
      ]
     },
     "execution_count": 5,
     "metadata": {},
     "output_type": "execute_result"
    }
   ],
   "source": [
    "l2=['a','b','c','d']\n",
    "l2"
   ]
  },
  {
   "cell_type": "code",
   "execution_count": 11,
   "id": "d051e082-6ba0-489b-8de3-ec411ef1e454",
   "metadata": {},
   "outputs": [
    {
     "data": {
      "text/plain": [
       "[1, 2, 3, 4, 'a', 'b', 'c', 'd']"
      ]
     },
     "execution_count": 11,
     "metadata": {},
     "output_type": "execute_result"
    }
   ],
   "source": [
    "l3=[1,2,3,4,'a','b','c','d']\n",
    "l3"
   ]
  },
  {
   "cell_type": "code",
   "execution_count": 18,
   "id": "9ed202bc-5430-4d4e-882f-47f1cc523408",
   "metadata": {},
   "outputs": [
    {
     "data": {
      "text/plain": [
       "['naresh it']"
      ]
     },
     "execution_count": 18,
     "metadata": {},
     "output_type": "execute_result"
    }
   ],
   "source": [
    "name='naresh it'\n",
    "l4=[name]\n",
    "l4\n"
   ]
  },
  {
   "cell_type": "code",
   "execution_count": 20,
   "id": "0bbc5c0c-897e-41e8-8cb7-ffd58b111d07",
   "metadata": {},
   "outputs": [
    {
     "data": {
      "text/plain": [
       "[100, 'apple', ['a', 2, 2.0]]"
      ]
     },
     "execution_count": 20,
     "metadata": {},
     "output_type": "execute_result"
    }
   ],
   "source": [
    "l6=[100,'apple',['a',2,2.0]]\n",
    "l6"
   ]
  },
  {
   "cell_type": "code",
   "execution_count": 22,
   "id": "26014962-f40c-43c5-bd6a-9496868e5af1",
   "metadata": {},
   "outputs": [
    {
     "data": {
      "text/plain": [
       "[100, 1000, 1000000, 10.2, 10.3]"
      ]
     },
     "execution_count": 22,
     "metadata": {},
     "output_type": "execute_result"
    }
   ],
   "source": [
    "l7=[100,1000,1000000,10.2,10.3]\n",
    "l7"
   ]
  },
  {
   "cell_type": "code",
   "execution_count": null,
   "id": "4794c712-dd97-4fde-b835-1127ea8c0bc1",
   "metadata": {},
   "outputs": [],
   "source": [
    "-list are array of elements\n",
    "-list elements are heterogeneous all the data type we can represent in a list\n",
    "-list elements are allowed duplicates\n",
    "-list in list is possible -variable assignment also possible in the list "
   ]
  },
  {
   "cell_type": "code",
   "execution_count": null,
   "id": "aa781b3f-098a-471c-9ef4-862536becde1",
   "metadata": {},
   "outputs": [],
   "source": [
    "l1=[1,2,3,4]\n"
   ]
  },
  {
   "cell_type": "code",
   "execution_count": 23,
   "id": "91450e6c-a1a4-4c15-8a20-daab3ad8a636",
   "metadata": {},
   "outputs": [
    {
     "data": {
      "text/plain": [
       "4"
      ]
     },
     "execution_count": 23,
     "metadata": {},
     "output_type": "execute_result"
    }
   ],
   "source": [
    "len(l1)"
   ]
  },
  {
   "cell_type": "code",
   "execution_count": 25,
   "id": "298a2c3a-a653-48e8-bea2-085f023bb633",
   "metadata": {},
   "outputs": [
    {
     "data": {
      "text/plain": [
       "4"
      ]
     },
     "execution_count": 25,
     "metadata": {},
     "output_type": "execute_result"
    }
   ],
   "source": [
    "max(l1)"
   ]
  },
  {
   "cell_type": "code",
   "execution_count": 26,
   "id": "9924d6df-011d-4ace-8570-c3f3686ae3c0",
   "metadata": {},
   "outputs": [
    {
     "data": {
      "text/plain": [
       "1"
      ]
     },
     "execution_count": 26,
     "metadata": {},
     "output_type": "execute_result"
    }
   ],
   "source": [
    "min(l1)"
   ]
  },
  {
   "cell_type": "code",
   "execution_count": 27,
   "id": "b4dee026-5e3a-4041-a97e-bf82ff07024a",
   "metadata": {},
   "outputs": [
    {
     "data": {
      "text/plain": [
       "[1, 2, 3, 4]"
      ]
     },
     "execution_count": 27,
     "metadata": {},
     "output_type": "execute_result"
    }
   ],
   "source": [
    "sorted(l1)"
   ]
  },
  {
   "cell_type": "code",
   "execution_count": 50,
   "id": "07f661a3-7a42-45e7-b7a4-78e9aa6281df",
   "metadata": {},
   "outputs": [
    {
     "data": {
      "text/plain": [
       "<list_reverseiterator at 0x283a8ec7f10>"
      ]
     },
     "execution_count": 50,
     "metadata": {},
     "output_type": "execute_result"
    }
   ],
   "source": [
    "reversed(l1)"
   ]
  },
  {
   "cell_type": "code",
   "execution_count": 29,
   "id": "486f4e86-229f-406d-87e3-e2257cac4943",
   "metadata": {},
   "outputs": [
    {
     "data": {
      "text/plain": [
       "4"
      ]
     },
     "execution_count": 29,
     "metadata": {},
     "output_type": "execute_result"
    }
   ],
   "source": [
    "l2=['a','b','c','d']\n",
    "len(l2)"
   ]
  },
  {
   "cell_type": "code",
   "execution_count": 30,
   "id": "334cb32f-72d9-48e2-a904-31159f1b5717",
   "metadata": {},
   "outputs": [
    {
     "data": {
      "text/plain": [
       "'d'"
      ]
     },
     "execution_count": 30,
     "metadata": {},
     "output_type": "execute_result"
    }
   ],
   "source": [
    "max(l2)"
   ]
  },
  {
   "cell_type": "code",
   "execution_count": 31,
   "id": "39661168-5c6e-4e80-ae2b-bc0960ba3165",
   "metadata": {},
   "outputs": [
    {
     "data": {
      "text/plain": [
       "'a'"
      ]
     },
     "execution_count": 31,
     "metadata": {},
     "output_type": "execute_result"
    }
   ],
   "source": [
    "min(l2)"
   ]
  },
  {
   "cell_type": "code",
   "execution_count": 32,
   "id": "0658caa2-2e14-4924-a6f4-d3f493005105",
   "metadata": {},
   "outputs": [
    {
     "data": {
      "text/plain": [
       "['a', 'b', 'c', 'd']"
      ]
     },
     "execution_count": 32,
     "metadata": {},
     "output_type": "execute_result"
    }
   ],
   "source": [
    "sorted(l2)"
   ]
  },
  {
   "cell_type": "code",
   "execution_count": 33,
   "id": "0f8741b8-6206-4bd8-94f7-bdf9ffbd874a",
   "metadata": {},
   "outputs": [
    {
     "data": {
      "text/plain": [
       "<list_reverseiterator at 0x283a8ec7490>"
      ]
     },
     "execution_count": 33,
     "metadata": {},
     "output_type": "execute_result"
    }
   ],
   "source": [
    "reversed(l2)"
   ]
  },
  {
   "cell_type": "code",
   "execution_count": 34,
   "id": "3e88bf24-448d-4467-bc5f-1b91b0dd463e",
   "metadata": {},
   "outputs": [
    {
     "data": {
      "text/plain": [
       "9"
      ]
     },
     "execution_count": 34,
     "metadata": {},
     "output_type": "execute_result"
    }
   ],
   "source": [
    "name='naresh it'\n",
    "len(name)"
   ]
  },
  {
   "cell_type": "code",
   "execution_count": 35,
   "id": "6f2f7ae4-5fe7-4fc2-b401-2ea15cb05a93",
   "metadata": {},
   "outputs": [
    {
     "data": {
      "text/plain": [
       "'t'"
      ]
     },
     "execution_count": 35,
     "metadata": {},
     "output_type": "execute_result"
    }
   ],
   "source": [
    "max(name)"
   ]
  },
  {
   "cell_type": "code",
   "execution_count": 36,
   "id": "c7d3108b-13b6-432b-a561-0f8461d432e5",
   "metadata": {},
   "outputs": [
    {
     "data": {
      "text/plain": [
       "' '"
      ]
     },
     "execution_count": 36,
     "metadata": {},
     "output_type": "execute_result"
    }
   ],
   "source": [
    "min(name)"
   ]
  },
  {
   "cell_type": "code",
   "execution_count": 37,
   "id": "375febb8-f5c4-4c16-8f9f-d2a8433e5b42",
   "metadata": {},
   "outputs": [
    {
     "data": {
      "text/plain": [
       "[' ', 'a', 'e', 'h', 'i', 'n', 'r', 's', 't']"
      ]
     },
     "execution_count": 37,
     "metadata": {},
     "output_type": "execute_result"
    }
   ],
   "source": [
    "sorted(name)"
   ]
  },
  {
   "cell_type": "code",
   "execution_count": 38,
   "id": "030bdb24-6343-4bc9-bfd4-21fd06847342",
   "metadata": {},
   "outputs": [
    {
     "data": {
      "text/plain": [
       "<reversed at 0x283a8ec0b50>"
      ]
     },
     "execution_count": 38,
     "metadata": {},
     "output_type": "execute_result"
    }
   ],
   "source": [
    "reversed(name)"
   ]
  },
  {
   "cell_type": "code",
   "execution_count": 39,
   "id": "608f0801-21dd-4ebc-8efa-97525373fef6",
   "metadata": {},
   "outputs": [
    {
     "data": {
      "text/plain": [
       "3"
      ]
     },
     "execution_count": 39,
     "metadata": {},
     "output_type": "execute_result"
    }
   ],
   "source": [
    "l6=[100,100,100]\n",
    "len(l6)"
   ]
  },
  {
   "cell_type": "code",
   "execution_count": 40,
   "id": "266be86a-2fde-4ead-b855-5403b77fed00",
   "metadata": {},
   "outputs": [
    {
     "data": {
      "text/plain": [
       "100"
      ]
     },
     "execution_count": 40,
     "metadata": {},
     "output_type": "execute_result"
    }
   ],
   "source": [
    "max(l6)"
   ]
  },
  {
   "cell_type": "code",
   "execution_count": 41,
   "id": "0bdd46b1-8a10-4cfe-a640-f943edaec100",
   "metadata": {},
   "outputs": [
    {
     "data": {
      "text/plain": [
       "100"
      ]
     },
     "execution_count": 41,
     "metadata": {},
     "output_type": "execute_result"
    }
   ],
   "source": [
    "min(l6)"
   ]
  },
  {
   "cell_type": "code",
   "execution_count": 42,
   "id": "d9108ad5-11d4-4b18-8962-5978bfdf57c5",
   "metadata": {},
   "outputs": [
    {
     "data": {
      "text/plain": [
       "[100, 100, 100]"
      ]
     },
     "execution_count": 42,
     "metadata": {},
     "output_type": "execute_result"
    }
   ],
   "source": [
    "sorted(l6)"
   ]
  },
  {
   "cell_type": "code",
   "execution_count": 43,
   "id": "9204749a-61a6-4ccc-a1fc-0b03cbc6e7ea",
   "metadata": {},
   "outputs": [
    {
     "data": {
      "text/plain": [
       "<list_reverseiterator at 0x283a8ec7be0>"
      ]
     },
     "execution_count": 43,
     "metadata": {},
     "output_type": "execute_result"
    }
   ],
   "source": [
    "reversed(l6)"
   ]
  },
  {
   "cell_type": "code",
   "execution_count": 44,
   "id": "447c087c-58ef-4546-b257-5852a00d7a79",
   "metadata": {},
   "outputs": [
    {
     "data": {
      "text/plain": [
       "3"
      ]
     },
     "execution_count": 44,
     "metadata": {},
     "output_type": "execute_result"
    }
   ],
   "source": [
    "l7=[100,'apple',['a',2]]\n",
    "len(l7)"
   ]
  },
  {
   "cell_type": "code",
   "execution_count": 46,
   "id": "8e9ee693-cbef-4cc8-8a8f-9677cf37994b",
   "metadata": {},
   "outputs": [
    {
     "ename": "TypeError",
     "evalue": "'>' not supported between instances of 'str' and 'int'",
     "output_type": "error",
     "traceback": [
      "\u001b[1;31m---------------------------------------------------------------------------\u001b[0m",
      "\u001b[1;31mTypeError\u001b[0m                                 Traceback (most recent call last)",
      "Cell \u001b[1;32mIn[46], line 1\u001b[0m\n\u001b[1;32m----> 1\u001b[0m \u001b[38;5;28mmax\u001b[39m(l7)\n",
      "\u001b[1;31mTypeError\u001b[0m: '>' not supported between instances of 'str' and 'int'"
     ]
    }
   ],
   "source": [
    "max(l7)"
   ]
  },
  {
   "cell_type": "code",
   "execution_count": 47,
   "id": "b4af35a8-a03e-4bd3-a296-b20c12daae63",
   "metadata": {},
   "outputs": [
    {
     "ename": "TypeError",
     "evalue": "'<' not supported between instances of 'str' and 'int'",
     "output_type": "error",
     "traceback": [
      "\u001b[1;31m---------------------------------------------------------------------------\u001b[0m",
      "\u001b[1;31mTypeError\u001b[0m                                 Traceback (most recent call last)",
      "Cell \u001b[1;32mIn[47], line 1\u001b[0m\n\u001b[1;32m----> 1\u001b[0m \u001b[38;5;28mmin\u001b[39m(l7)\n",
      "\u001b[1;31mTypeError\u001b[0m: '<' not supported between instances of 'str' and 'int'"
     ]
    }
   ],
   "source": [
    "min(l7)"
   ]
  },
  {
   "cell_type": "code",
   "execution_count": 48,
   "id": "75f74113-a050-4123-ab0a-119f817dd321",
   "metadata": {},
   "outputs": [
    {
     "ename": "TypeError",
     "evalue": "'<' not supported between instances of 'str' and 'int'",
     "output_type": "error",
     "traceback": [
      "\u001b[1;31m---------------------------------------------------------------------------\u001b[0m",
      "\u001b[1;31mTypeError\u001b[0m                                 Traceback (most recent call last)",
      "Cell \u001b[1;32mIn[48], line 1\u001b[0m\n\u001b[1;32m----> 1\u001b[0m \u001b[38;5;28msorted\u001b[39m(l7)\n",
      "\u001b[1;31mTypeError\u001b[0m: '<' not supported between instances of 'str' and 'int'"
     ]
    }
   ],
   "source": [
    "sorted(l7)"
   ]
  },
  {
   "cell_type": "code",
   "execution_count": 49,
   "id": "46a42288-1bac-45c0-9124-7e0b45d35999",
   "metadata": {},
   "outputs": [
    {
     "data": {
      "text/plain": [
       "<list_reverseiterator at 0x283a8ec7880>"
      ]
     },
     "execution_count": 49,
     "metadata": {},
     "output_type": "execute_result"
    }
   ],
   "source": [
    "reversed(l7)"
   ]
  },
  {
   "cell_type": "markdown",
   "id": "bf751ae7-71bd-4395-bf39-9fd6fb00d483",
   "metadata": {},
   "source": [
    "# reversed is not working \n",
    "# l7=str and int both together doesnot work \n"
   ]
  },
  {
   "cell_type": "code",
   "execution_count": 54,
   "id": "7feae05a-3e70-4abb-a3c5-e627c1ce489d",
   "metadata": {},
   "outputs": [
    {
     "data": {
      "text/plain": [
       "[False, True, 'cat', 'ball', 'apple', 3, 2, 1]"
      ]
     },
     "execution_count": 54,
     "metadata": {},
     "output_type": "execute_result"
    }
   ],
   "source": [
    "l4=[1,2,3,'apple','ball','cat',True,False]\n",
    "list(reversed(l4))\n"
   ]
  },
  {
   "cell_type": "code",
   "execution_count": 55,
   "id": "9198dbfd-6449-45f8-be63-78ab61aef9ca",
   "metadata": {},
   "outputs": [
    {
     "data": {
      "text/plain": [
       "'banu'"
      ]
     },
     "execution_count": 55,
     "metadata": {},
     "output_type": "execute_result"
    }
   ],
   "source": [
    "name=['adithya','aadithya','banu']\n",
    "max(name)"
   ]
  },
  {
   "cell_type": "code",
   "execution_count": null,
   "id": "a6ba09c8-4abd-4c04-9ba9-48590e848505",
   "metadata": {},
   "outputs": [],
   "source": [
    "#first  compare all first leters\n",
    "#if all first letters ascii values same \n",
    "#the compare with second \n",
    "#continue the process"
   ]
  },
  {
   "cell_type": "code",
   "execution_count": 56,
   "id": "c957aecb-1e55-424a-83f0-49ba5572853e",
   "metadata": {},
   "outputs": [
    {
     "data": {
      "text/plain": [
       "4"
      ]
     },
     "execution_count": 56,
     "metadata": {},
     "output_type": "execute_result"
    }
   ],
   "source": [
    "list1=['apple',1,'cherry','banana']\n",
    "len(list1)"
   ]
  },
  {
   "cell_type": "code",
   "execution_count": 57,
   "id": "12e3bd30-4f2d-4bfa-b8f5-35bfe80ff84d",
   "metadata": {},
   "outputs": [
    {
     "ename": "TypeError",
     "evalue": "'>' not supported between instances of 'str' and 'int'",
     "output_type": "error",
     "traceback": [
      "\u001b[1;31m---------------------------------------------------------------------------\u001b[0m",
      "\u001b[1;31mTypeError\u001b[0m                                 Traceback (most recent call last)",
      "Cell \u001b[1;32mIn[57], line 2\u001b[0m\n\u001b[0;32m      1\u001b[0m list1\u001b[38;5;241m=\u001b[39m[\u001b[38;5;241m65\u001b[39m,\u001b[38;5;124m'\u001b[39m\u001b[38;5;124ma\u001b[39m\u001b[38;5;124m'\u001b[39m]\n\u001b[1;32m----> 2\u001b[0m \u001b[38;5;28mmax\u001b[39m(list1)\n",
      "\u001b[1;31mTypeError\u001b[0m: '>' not supported between instances of 'str' and 'int'"
     ]
    }
   ],
   "source": [
    "list1=[65,'a']\n",
    "max(list1)\n",
    "#same data type is only comparable"
   ]
  },
  {
   "cell_type": "code",
   "execution_count": null,
   "id": "8929ada7-0989-4d65-9030-82b07519ee8d",
   "metadata": {},
   "outputs": [],
   "source": [
    "#index operation ##"
   ]
  },
  {
   "cell_type": "code",
   "execution_count": null,
   "id": "a924198e-3be1-422a-b9d6-6c0c25fe3093",
   "metadata": {},
   "outputs": [],
   "source": [
    "l4=[1,2,3,'apple','ball','cat',True,False]\n",
    "-8 -7  -6   -5    -4   -3    -2     -1\n",
    "1  2  3  apple  ball   cat   true   flase\n",
    "0  1   2   3     4     5      6      7"
   ]
  },
  {
   "cell_type": "code",
   "execution_count": 58,
   "id": "69def17e-eac2-4eb7-987f-254eca4a5b49",
   "metadata": {},
   "outputs": [
    {
     "data": {
      "text/plain": [
       "('apple', 'apple')"
      ]
     },
     "execution_count": 58,
     "metadata": {},
     "output_type": "execute_result"
    }
   ],
   "source": [
    "l4[3],l4[-5]"
   ]
  },
  {
   "cell_type": "code",
   "execution_count": 59,
   "id": "f1fed9ba-40bb-4227-906c-6ad5de96a9f6",
   "metadata": {},
   "outputs": [
    {
     "data": {
      "text/plain": [
       "(2, True)"
      ]
     },
     "execution_count": 59,
     "metadata": {},
     "output_type": "execute_result"
    }
   ],
   "source": [
    "l4[-7],l4[-2]"
   ]
  },
  {
   "cell_type": "code",
   "execution_count": 61,
   "id": "654debd6-faa9-4abc-8f8d-4d4485c4b386",
   "metadata": {},
   "outputs": [
    {
     "data": {
      "text/plain": [
       "1"
      ]
     },
     "execution_count": 61,
     "metadata": {},
     "output_type": "execute_result"
    }
   ],
   "source": [
    "l1=[1,[2]]\n",
    "l1[0]"
   ]
  },
  {
   "cell_type": "code",
   "execution_count": 62,
   "id": "c8f2df04-05f8-483c-87cc-aeabaadd71f6",
   "metadata": {},
   "outputs": [
    {
     "data": {
      "text/plain": [
       "2"
      ]
     },
     "execution_count": 62,
     "metadata": {},
     "output_type": "execute_result"
    }
   ],
   "source": [
    "l1=[1,[2]]\n",
    "new=l1[1]\n",
    "new[0]"
   ]
  },
  {
   "cell_type": "code",
   "execution_count": 63,
   "id": "2431e631-c850-445e-9953-a6ecaae84e06",
   "metadata": {},
   "outputs": [
    {
     "data": {
      "text/plain": [
       "2"
      ]
     },
     "execution_count": 63,
     "metadata": {},
     "output_type": "execute_result"
    }
   ],
   "source": [
    "l1[1][0]"
   ]
  },
  {
   "cell_type": "code",
   "execution_count": 64,
   "id": "4415e30e-e456-4e6b-8954-4400618a030b",
   "metadata": {},
   "outputs": [
    {
     "data": {
      "text/plain": [
       "'a'"
      ]
     },
     "execution_count": 64,
     "metadata": {},
     "output_type": "execute_result"
    }
   ],
   "source": [
    "l1=[1,[2,'a']]\n",
    "l1[1][1]\n",
    "# a is present at index 1\n",
    "# so we give l1[1]:[2,'a'] it is out put and list \n",
    "#the list has two elements \n",
    "#'a' at 1st index \n",
    "#l1[1][1]"
   ]
  },
  {
   "cell_type": "code",
   "execution_count": 65,
   "id": "e880f25e-a600-4b91-824d-1f82cbcf9ccd",
   "metadata": {},
   "outputs": [
    {
     "data": {
      "text/plain": [
       "'a'"
      ]
     },
     "execution_count": 65,
     "metadata": {},
     "output_type": "execute_result"
    }
   ],
   "source": [
    "l1=[1,[2,'a']]\n",
    "#index 1 is l1\n",
    "# l2 list is 2,a\n",
    "#             0  1\n",
    "#so index and l2 elemnts \n",
    "l1[1][1]\n"
   ]
  },
  {
   "cell_type": "code",
   "execution_count": 66,
   "id": "4d57afd0-474b-4dda-a47b-d5286a2e7233",
   "metadata": {},
   "outputs": [
    {
     "data": {
      "text/plain": [
       "2"
      ]
     },
     "execution_count": 66,
     "metadata": {},
     "output_type": "execute_result"
    }
   ],
   "source": [
    "l1[1][0]"
   ]
  },
  {
   "cell_type": "code",
   "execution_count": 69,
   "id": "4266efda-fbdd-4720-a7ee-42bc0d46d969",
   "metadata": {},
   "outputs": [
    {
     "data": {
      "text/plain": [
       "['a', 'b']"
      ]
     },
     "execution_count": 69,
     "metadata": {},
     "output_type": "execute_result"
    }
   ],
   "source": [
    "     1      2 \n",
    "           0   1\n",
    "l1=[1,[2,['a','b']]]\n",
    "# i want b \n",
    "l1[1][1]"
   ]
  },
  {
   "cell_type": "code",
   "execution_count": 70,
   "id": "67ae4a0d-07c1-49b7-9903-c491d1d24ef2",
   "metadata": {},
   "outputs": [
    {
     "data": {
      "text/plain": [
       "'b'"
      ]
     },
     "execution_count": 70,
     "metadata": {},
     "output_type": "execute_result"
    }
   ],
   "source": [
    "l1[1][1][1]"
   ]
  },
  {
   "cell_type": "code",
   "execution_count": 75,
   "id": "626bb4ce-d470-4cfc-bf71-39c43ea9f19d",
   "metadata": {},
   "outputs": [
    {
     "data": {
      "text/plain": [
       "2"
      ]
     },
     "execution_count": 75,
     "metadata": {},
     "output_type": "execute_result"
    }
   ],
   "source": [
    "l1=[1,2,[3,[4,[5,['apple']]]]]\n",
    "len(l1[2])"
   ]
  },
  {
   "cell_type": "code",
   "execution_count": 76,
   "id": "2bd87a06-a3d7-47b8-b093-c41256b9e704",
   "metadata": {},
   "outputs": [
    {
     "data": {
      "text/plain": [
       "[3, [4, [5, ['apple']]]]"
      ]
     },
     "execution_count": 76,
     "metadata": {},
     "output_type": "execute_result"
    }
   ],
   "source": [
    "l1[2]"
   ]
  },
  {
   "cell_type": "code",
   "execution_count": 77,
   "id": "9a852cad-0252-43ff-a520-3646e8bd2728",
   "metadata": {},
   "outputs": [
    {
     "data": {
      "text/plain": [
       "[4, [5, ['apple']]]"
      ]
     },
     "execution_count": 77,
     "metadata": {},
     "output_type": "execute_result"
    }
   ],
   "source": [
    "l1[2][1]"
   ]
  },
  {
   "cell_type": "code",
   "execution_count": 78,
   "id": "79b482d7-0141-4673-ad15-ab9eb1754fb0",
   "metadata": {},
   "outputs": [
    {
     "data": {
      "text/plain": [
       "['apple']"
      ]
     },
     "execution_count": 78,
     "metadata": {},
     "output_type": "execute_result"
    }
   ],
   "source": [
    "l1[2][1][1][1]"
   ]
  },
  {
   "cell_type": "code",
   "execution_count": 79,
   "id": "13b99f0a-4f6b-4d13-a029-aae833737915",
   "metadata": {},
   "outputs": [
    {
     "data": {
      "text/plain": [
       "5"
      ]
     },
     "execution_count": 79,
     "metadata": {},
     "output_type": "execute_result"
    }
   ],
   "source": [
    "list1=['Apple',1,'Solapur',['cherry','papaya',70,[123,'Banana'],'tomato'],'python'] #get banana\n",
    "len(list1)\n"
   ]
  },
  {
   "cell_type": "code",
   "execution_count": 80,
   "id": "6d8fe4e5-768f-4630-b3d2-3e0b8af28532",
   "metadata": {},
   "outputs": [
    {
     "data": {
      "text/plain": [
       "'Banana'"
      ]
     },
     "execution_count": 80,
     "metadata": {},
     "output_type": "execute_result"
    }
   ],
   "source": [
    "list1[3][3][1]"
   ]
  },
  {
   "cell_type": "code",
   "execution_count": 81,
   "id": "cb37fec9-42a7-4495-8a13-1decd11024a6",
   "metadata": {},
   "outputs": [
    {
     "data": {
      "text/plain": [
       "1"
      ]
     },
     "execution_count": 81,
     "metadata": {},
     "output_type": "execute_result"
    }
   ],
   "source": [
    "list1=[[[[[[[1,'Cherry']]]]]]]\n",
    "len(list1)"
   ]
  },
  {
   "cell_type": "code",
   "execution_count": 84,
   "id": "ee40cbd9-7910-4904-be2f-8faa0c6c3d64",
   "metadata": {},
   "outputs": [
    {
     "data": {
      "text/plain": [
       "'Cherry'"
      ]
     },
     "execution_count": 84,
     "metadata": {},
     "output_type": "execute_result"
    }
   ],
   "source": [
    "list1[0][0][0][0][0][0][1]"
   ]
  },
  {
   "cell_type": "code",
   "execution_count": 85,
   "id": "74325d9c-8a9b-41c4-af39-e8cd7a819d6d",
   "metadata": {},
   "outputs": [
    {
     "data": {
      "text/plain": [
       "2"
      ]
     },
     "execution_count": 85,
     "metadata": {},
     "output_type": "execute_result"
    }
   ],
   "source": [
    "\n",
    "list1=['MH',\n",
    "       ['Nagpur',['Orange',['likes',['king'],['shivaji',['Son',['shmbaji']]]]]\n",
    "       ]]\n",
    "len(list1)"
   ]
  },
  {
   "cell_type": "code",
   "execution_count": 86,
   "id": "368670ed-5f5a-4233-94b9-0585ff9c44bb",
   "metadata": {},
   "outputs": [
    {
     "data": {
      "text/plain": [
       "'shmbaji'"
      ]
     },
     "execution_count": 86,
     "metadata": {},
     "output_type": "execute_result"
    }
   ],
   "source": [
    "list1[1][1][1][2][1][1][0]"
   ]
  },
  {
   "cell_type": "code",
   "execution_count": null,
   "id": "81746660-a69f-4908-a8b5-ad6162cb1228",
   "metadata": {},
   "outputs": [],
   "source": []
  }
 ],
 "metadata": {
  "kernelspec": {
   "display_name": "Python 3 (ipykernel)",
   "language": "python",
   "name": "python3"
  },
  "language_info": {
   "codemirror_mode": {
    "name": "ipython",
    "version": 3
   },
   "file_extension": ".py",
   "mimetype": "text/x-python",
   "name": "python",
   "nbconvert_exporter": "python",
   "pygments_lexer": "ipython3",
   "version": "3.11.7"
  }
 },
 "nbformat": 4,
 "nbformat_minor": 5
}
