{
 "cells": [
  {
   "cell_type": "code",
   "execution_count": 5,
   "id": "79c5c40c-be56-41b0-ac24-c0a27953fe4b",
   "metadata": {},
   "outputs": [],
   "source": [
    "#count\n",
    "count=0\n",
    "str1='hai how are you'\n",
    "for i in str1:\n",
    "    i=='a':\n",
    "    count=count+1\n",
    "    count=0"
   ]
  },
  {
   "cell_type": "code",
   "execution_count": 6,
   "id": "b81fcc73-52ad-4411-b373-787e9a4d5f54",
   "metadata": {},
   "outputs": [
    {
     "data": {
      "text/plain": [
       "2"
      ]
     },
     "execution_count": 6,
     "metadata": {},
     "output_type": "execute_result"
    }
   ],
   "source": [
    "str1.count('a')"
   ]
  },
  {
   "cell_type": "code",
   "execution_count": 8,
   "id": "51db24d6-db7a-41a5-b972-1d3e2d3d6467",
   "metadata": {},
   "outputs": [
    {
     "data": {
      "text/plain": [
       "3"
      ]
     },
     "execution_count": 8,
     "metadata": {},
     "output_type": "execute_result"
    }
   ],
   "source": [
    "str1='hai hai hai'\n",
    "str1.count('a')"
   ]
  },
  {
   "cell_type": "code",
   "execution_count": 10,
   "id": "cd76e4f5-9c53-4eb3-b9e6-23df2247e132",
   "metadata": {},
   "outputs": [
    {
     "data": {
      "text/plain": [
       "1"
      ]
     },
     "execution_count": 10,
     "metadata": {},
     "output_type": "execute_result"
    }
   ],
   "source": [
    "#h   a    i    h    a    i    h    a   i\n",
    "#0   1    2  3  4    5   6  7  8   9   10\n",
    "str1.count('a',6)\n",
    "#we are searching number of a from index "
   ]
  },
  {
   "cell_type": "code",
   "execution_count": 11,
   "id": "688892e6-0166-4387-9e96-575ad8fb0801",
   "metadata": {},
   "outputs": [
    {
     "data": {
      "text/plain": [
       "2"
      ]
     },
     "execution_count": 11,
     "metadata": {},
     "output_type": "execute_result"
    }
   ],
   "source": [
    "str1.count('a',5)"
   ]
  },
  {
   "cell_type": "code",
   "execution_count": 12,
   "id": "91fcc73e-4230-488a-a72a-936593d3b576",
   "metadata": {},
   "outputs": [
    {
     "data": {
      "text/plain": [
       "1"
      ]
     },
     "execution_count": 12,
     "metadata": {},
     "output_type": "execute_result"
    }
   ],
   "source": [
    "str1.count('a',4,8) # between 2 index "
   ]
  },
  {
   "cell_type": "code",
   "execution_count": 15,
   "id": "9df81833-5451-48ee-bc97-90732dc4c8f5",
   "metadata": {},
   "outputs": [],
   "source": [
    "##window method## #travels to all words \n",
    "count=0\n",
    "for i in range (len(str1)):\n",
    "    if str1[i:i+3]=='ola':\n",
    "        count=count+1\n",
    "step 1 count=0 i=o str1[0:3]=='ola' true count\n",
    "    "
   ]
  },
  {
   "cell_type": "code",
   "execution_count": 16,
   "id": "eb93fc45-67ca-457a-8ead-3df56bd4c882",
   "metadata": {},
   "outputs": [
    {
     "data": {
      "text/plain": [
       "1"
      ]
     },
     "execution_count": 16,
     "metadata": {},
     "output_type": "execute_result"
    }
   ],
   "source": [
    "str1='ola ola ola'\n",
    "str1.count(str1)"
   ]
  },
  {
   "cell_type": "code",
   "execution_count": 20,
   "id": "6549d4f1-e78d-42ee-8323-11e852d1ad0d",
   "metadata": {},
   "outputs": [
    {
     "data": {
      "text/plain": [
       "1"
      ]
     },
     "execution_count": 20,
     "metadata": {},
     "output_type": "execute_result"
    }
   ],
   "source": [
    "str1='ola ola'\n",
    "str1.count(str1)"
   ]
  },
  {
   "cell_type": "code",
   "execution_count": 21,
   "id": "fd4ac72e-81b9-44fa-852b-2aa262154cac",
   "metadata": {},
   "outputs": [
    {
     "data": {
      "text/plain": [
       "0"
      ]
     },
     "execution_count": 21,
     "metadata": {},
     "output_type": "execute_result"
    }
   ],
   "source": [
    "str1.count('z')"
   ]
  },
  {
   "cell_type": "code",
   "execution_count": 22,
   "id": "3d404234-102e-4f30-95c4-23e7092fd4e5",
   "metadata": {},
   "outputs": [
    {
     "data": {
      "text/plain": [
       "'weLcome'"
      ]
     },
     "execution_count": 22,
     "metadata": {},
     "output_type": "execute_result"
    }
   ],
   "source": [
    "#replace\n",
    "str1='welcome'\n",
    "#replace 'l' with L\n",
    "#we know the string are immutable \n",
    "#we can not use index operations also \n",
    "#slice and concatenation \n",
    "s1='we'\n",
    "s2='come'\n",
    "s1+'L'+s2\n",
    "##we canot change string without using index operation \n"
   ]
  },
  {
   "cell_type": "code",
   "execution_count": 28,
   "id": "ca9f9454-30e3-40c2-8a6b-f7c717dda39b",
   "metadata": {},
   "outputs": [
    {
     "ename": "NameError",
     "evalue": "name 'l' is not defined",
     "output_type": "error",
     "traceback": [
      "\u001b[1;31m---------------------------------------------------------------------------\u001b[0m",
      "\u001b[1;31mNameError\u001b[0m                                 Traceback (most recent call last)",
      "Cell \u001b[1;32mIn[28], line 2\u001b[0m\n\u001b[0;32m      1\u001b[0m \u001b[38;5;66;03m#str1='welcome\u001b[39;00m\n\u001b[1;32m----> 2\u001b[0m \u001b[38;5;28mchr\u001b[39m(\u001b[38;5;28mord\u001b[39m(l)\u001b[38;5;241m-\u001b[39m\u001b[38;5;241m32\u001b[39m)\n",
      "\u001b[1;31mNameError\u001b[0m: name 'l' is not defined"
     ]
    }
   ],
   "source": [
    "#str1='welcome\n",
    "chr(ord(l)-32)"
   ]
  },
  {
   "cell_type": "code",
   "execution_count": 27,
   "id": "8dec1ce2-f9c7-4e8e-a2c0-2f543ed11f38",
   "metadata": {},
   "outputs": [
    {
     "data": {
      "text/plain": [
       "'weLcome'"
      ]
     },
     "execution_count": 27,
     "metadata": {},
     "output_type": "execute_result"
    }
   ],
   "source": [
    "str1='welcome'\n",
    "str1.replace('l','L')"
   ]
  },
  {
   "cell_type": "code",
   "execution_count": 32,
   "id": "86590c0e-a059-4e54-8a6f-5d3b300ab3b2",
   "metadata": {},
   "outputs": [
    {
     "data": {
      "text/plain": [
       "'weLllcome'"
      ]
     },
     "execution_count": 32,
     "metadata": {},
     "output_type": "execute_result"
    }
   ],
   "source": [
    "str1='welllcome'\n",
    "str1.replace('l','L',1)#/ means direct value we have to provide\n",
    "#when we write count=1\n",
    "#it wil change only one letter \n",
    "#that to first occurence only \n"
   ]
  },
  {
   "cell_type": "code",
   "execution_count": 33,
   "id": "b9a848b1-d5dd-4d8a-a141-5729866e365a",
   "metadata": {},
   "outputs": [
    {
     "data": {
      "text/plain": [
       "'weLLlcome'"
      ]
     },
     "execution_count": 33,
     "metadata": {},
     "output_type": "execute_result"
    }
   ],
   "source": [
    "str1='welllcome'\n",
    "str1.replace('l','L',2)#/ means direct value we have to provide\n"
   ]
  },
  {
   "cell_type": "code",
   "execution_count": 47,
   "id": "587b3260-4090-4fa6-a197-03e6260fdf4d",
   "metadata": {},
   "outputs": [
    {
     "data": {
      "text/plain": [
       "'$estart'"
      ]
     },
     "execution_count": 47,
     "metadata": {},
     "output_type": "execute_result"
    }
   ],
   "source": [
    "str1='restart'\n",
    "str.replace(str1,'r','$',1)\n"
   ]
  },
  {
   "cell_type": "code",
   "execution_count": 44,
   "id": "1b687502-7a54-41f5-8c94-eb6c9c7b34c5",
   "metadata": {},
   "outputs": [
    {
     "data": {
      "text/plain": [
       "'resta$t'"
      ]
     },
     "execution_count": 44,
     "metadata": {},
     "output_type": "execute_result"
    }
   ],
   "source": [
    "str1='restart'\n",
    "s1=str1[:1]\n",
    "s2=str1[1:]\n",
    "s3=s2.replace('r','$')\n",
    "s1+s3"
   ]
  },
  {
   "cell_type": "code",
   "execution_count": 45,
   "id": "dc6df3b1-aec7-4388-9edc-29c0ddd64e1b",
   "metadata": {},
   "outputs": [
    {
     "data": {
      "text/plain": [
       "'resta$t'"
      ]
     },
     "execution_count": 45,
     "metadata": {},
     "output_type": "execute_result"
    }
   ],
   "source": [
    "str1='restart'\n",
    "str1[::-1].replace('r','$',1)[::-1]##in this case one method "
   ]
  },
  {
   "cell_type": "code",
   "execution_count": null,
   "id": "289b4a69-8785-4ed9-91e6-76e817ce58af",
   "metadata": {},
   "outputs": [],
   "source": [
    "##index -find##\n",
    "-upper\n",
    "-lower-case\n",
    "\n"
   ]
  },
  {
   "cell_type": "code",
   "execution_count": 48,
   "id": "42177d93-56d2-4e58-8933-56408e2080eb",
   "metadata": {},
   "outputs": [
    {
     "data": {
      "text/plain": [
       "['__add__',\n",
       " '__class__',\n",
       " '__contains__',\n",
       " '__delattr__',\n",
       " '__dir__',\n",
       " '__doc__',\n",
       " '__eq__',\n",
       " '__format__',\n",
       " '__ge__',\n",
       " '__getattribute__',\n",
       " '__getitem__',\n",
       " '__getnewargs__',\n",
       " '__getstate__',\n",
       " '__gt__',\n",
       " '__hash__',\n",
       " '__init__',\n",
       " '__init_subclass__',\n",
       " '__iter__',\n",
       " '__le__',\n",
       " '__len__',\n",
       " '__lt__',\n",
       " '__mod__',\n",
       " '__mul__',\n",
       " '__ne__',\n",
       " '__new__',\n",
       " '__reduce__',\n",
       " '__reduce_ex__',\n",
       " '__repr__',\n",
       " '__rmod__',\n",
       " '__rmul__',\n",
       " '__setattr__',\n",
       " '__sizeof__',\n",
       " '__str__',\n",
       " '__subclasshook__',\n",
       " 'capitalize',\n",
       " 'casefold',\n",
       " 'center',\n",
       " 'count',\n",
       " 'encode',\n",
       " 'endswith',\n",
       " 'expandtabs',\n",
       " 'find',\n",
       " 'format',\n",
       " 'format_map',\n",
       " 'index',\n",
       " 'isalnum',\n",
       " 'isalpha',\n",
       " 'isascii',\n",
       " 'isdecimal',\n",
       " 'isdigit',\n",
       " 'isidentifier',\n",
       " 'islower',\n",
       " 'isnumeric',\n",
       " 'isprintable',\n",
       " 'isspace',\n",
       " 'istitle',\n",
       " 'isupper',\n",
       " 'join',\n",
       " 'ljust',\n",
       " 'lower',\n",
       " 'lstrip',\n",
       " 'maketrans',\n",
       " 'partition',\n",
       " 'removeprefix',\n",
       " 'removesuffix',\n",
       " 'replace',\n",
       " 'rfind',\n",
       " 'rindex',\n",
       " 'rjust',\n",
       " 'rpartition',\n",
       " 'rsplit',\n",
       " 'rstrip',\n",
       " 'split',\n",
       " 'splitlines',\n",
       " 'startswith',\n",
       " 'strip',\n",
       " 'swapcase',\n",
       " 'title',\n",
       " 'translate',\n",
       " 'upper',\n",
       " 'zfill']"
      ]
     },
     "execution_count": 48,
     "metadata": {},
     "output_type": "execute_result"
    }
   ],
   "source": [
    "dir(' ')"
   ]
  },
  {
   "cell_type": "code",
   "execution_count": 49,
   "id": "7bf835ec-6e84-4425-85b6-7a7231259d36",
   "metadata": {
    "scrolled": true
   },
   "outputs": [
    {
     "data": {
      "text/plain": [
       "['__add__',\n",
       " '__class__',\n",
       " '__contains__',\n",
       " '__delattr__',\n",
       " '__dir__',\n",
       " '__doc__',\n",
       " '__eq__',\n",
       " '__format__',\n",
       " '__ge__',\n",
       " '__getattribute__',\n",
       " '__getitem__',\n",
       " '__getnewargs__',\n",
       " '__getstate__',\n",
       " '__gt__',\n",
       " '__hash__',\n",
       " '__init__',\n",
       " '__init_subclass__',\n",
       " '__iter__',\n",
       " '__le__',\n",
       " '__len__',\n",
       " '__lt__',\n",
       " '__mod__',\n",
       " '__mul__',\n",
       " '__ne__',\n",
       " '__new__',\n",
       " '__reduce__',\n",
       " '__reduce_ex__',\n",
       " '__repr__',\n",
       " '__rmod__',\n",
       " '__rmul__',\n",
       " '__setattr__',\n",
       " '__sizeof__',\n",
       " '__str__',\n",
       " '__subclasshook__',\n",
       " 'capitalize',\n",
       " 'casefold',\n",
       " 'center',\n",
       " 'count',\n",
       " 'encode',\n",
       " 'endswith',\n",
       " 'expandtabs',\n",
       " 'find',\n",
       " 'format',\n",
       " 'format_map',\n",
       " 'index',\n",
       " 'isalnum',\n",
       " 'isalpha',\n",
       " 'isascii',\n",
       " 'isdecimal',\n",
       " 'isdigit',\n",
       " 'isidentifier',\n",
       " 'islower',\n",
       " 'isnumeric',\n",
       " 'isprintable',\n",
       " 'isspace',\n",
       " 'istitle',\n",
       " 'isupper',\n",
       " 'join',\n",
       " 'ljust',\n",
       " 'lower',\n",
       " 'lstrip',\n",
       " 'maketrans',\n",
       " 'partition',\n",
       " 'removeprefix',\n",
       " 'removesuffix',\n",
       " 'replace',\n",
       " 'rfind',\n",
       " 'rindex',\n",
       " 'rjust',\n",
       " 'rpartition',\n",
       " 'rsplit',\n",
       " 'rstrip',\n",
       " 'split',\n",
       " 'splitlines',\n",
       " 'startswith',\n",
       " 'strip',\n",
       " 'swapcase',\n",
       " 'title',\n",
       " 'translate',\n",
       " 'upper',\n",
       " 'zfill']"
      ]
     },
     "execution_count": 49,
     "metadata": {},
     "output_type": "execute_result"
    }
   ],
   "source": [
    "dir('str')"
   ]
  },
  {
   "cell_type": "code",
   "execution_count": 50,
   "id": "314cabae-74b4-4e8f-a165-c71c65c515f8",
   "metadata": {},
   "outputs": [
    {
     "data": {
      "text/plain": [
       "['__add__',\n",
       " '__class__',\n",
       " '__contains__',\n",
       " '__delattr__',\n",
       " '__dir__',\n",
       " '__doc__',\n",
       " '__eq__',\n",
       " '__format__',\n",
       " '__ge__',\n",
       " '__getattribute__',\n",
       " '__getitem__',\n",
       " '__getnewargs__',\n",
       " '__getstate__',\n",
       " '__gt__',\n",
       " '__hash__',\n",
       " '__init__',\n",
       " '__init_subclass__',\n",
       " '__iter__',\n",
       " '__le__',\n",
       " '__len__',\n",
       " '__lt__',\n",
       " '__mod__',\n",
       " '__mul__',\n",
       " '__ne__',\n",
       " '__new__',\n",
       " '__reduce__',\n",
       " '__reduce_ex__',\n",
       " '__repr__',\n",
       " '__rmod__',\n",
       " '__rmul__',\n",
       " '__setattr__',\n",
       " '__sizeof__',\n",
       " '__str__',\n",
       " '__subclasshook__',\n",
       " 'capitalize',\n",
       " 'casefold',\n",
       " 'center',\n",
       " 'count',\n",
       " 'encode',\n",
       " 'endswith',\n",
       " 'expandtabs',\n",
       " 'find',\n",
       " 'format',\n",
       " 'format_map',\n",
       " 'index',\n",
       " 'isalnum',\n",
       " 'isalpha',\n",
       " 'isascii',\n",
       " 'isdecimal',\n",
       " 'isdigit',\n",
       " 'isidentifier',\n",
       " 'islower',\n",
       " 'isnumeric',\n",
       " 'isprintable',\n",
       " 'isspace',\n",
       " 'istitle',\n",
       " 'isupper',\n",
       " 'join',\n",
       " 'ljust',\n",
       " 'lower',\n",
       " 'lstrip',\n",
       " 'maketrans',\n",
       " 'partition',\n",
       " 'removeprefix',\n",
       " 'removesuffix',\n",
       " 'replace',\n",
       " 'rfind',\n",
       " 'rindex',\n",
       " 'rjust',\n",
       " 'rpartition',\n",
       " 'rsplit',\n",
       " 'rstrip',\n",
       " 'split',\n",
       " 'splitlines',\n",
       " 'startswith',\n",
       " 'strip',\n",
       " 'swapcase',\n",
       " 'title',\n",
       " 'translate',\n",
       " 'upper',\n",
       " 'zfill']"
      ]
     },
     "execution_count": 50,
     "metadata": {},
     "output_type": "execute_result"
    }
   ],
   "source": [
    "dir('str')"
   ]
  },
  {
   "cell_type": "code",
   "execution_count": 1,
   "id": "1b5f77ca-898d-49b0-8097-08b4f86ea487",
   "metadata": {},
   "outputs": [
    {
     "ename": "SyntaxError",
     "evalue": "invalid syntax (2602552431.py, line 2)",
     "output_type": "error",
     "traceback": [
      "\u001b[1;36m  Cell \u001b[1;32mIn[1], line 2\u001b[1;36m\u001b[0m\n\u001b[1;33m    -index says that it will give the index of any letter in a string\u001b[0m\n\u001b[1;37m           ^\u001b[0m\n\u001b[1;31mSyntaxError\u001b[0m\u001b[1;31m:\u001b[0m invalid syntax\n"
     ]
    }
   ],
   "source": [
    "## index##\n",
    "-index says that it will give the index of any letter in a string\n",
    "we alredy seen about count wil give how many letters are there\n",
    "-at what index you want to count \n",
    "-betwwen index also we can count the letters \n",
    "- index meaning it wil provide the index \n",
    "- imagine that there same letters repeated \n",
    "-how can we find the next index \n"
   ]
  },
  {
   "cell_type": "code",
   "execution_count": 2,
   "id": "cc528e77-9b6b-49ba-9859-3b8fa1ea8263",
   "metadata": {},
   "outputs": [
    {
     "data": {
      "text/plain": [
       "1"
      ]
     },
     "execution_count": 2,
     "metadata": {},
     "output_type": "execute_result"
    }
   ],
   "source": [
    "str1='hai hai hai'\n",
    "str1.index('a')"
   ]
  },
  {
   "cell_type": "code",
   "execution_count": 5,
   "id": "6fe14474-c411-420b-bcdf-3d913bce6c5f",
   "metadata": {},
   "outputs": [
    {
     "data": {
      "text/plain": [
       "5"
      ]
     },
     "execution_count": 5,
     "metadata": {},
     "output_type": "execute_result"
    }
   ],
   "source": [
    "str1.index('a',3)"
   ]
  },
  {
   "cell_type": "code",
   "execution_count": 6,
   "id": "8c81143b-aee8-49ae-b64a-279d6d249c96",
   "metadata": {
    "scrolled": true
   },
   "outputs": [
    {
     "data": {
      "text/plain": [
       "5"
      ]
     },
     "execution_count": 6,
     "metadata": {},
     "output_type": "execute_result"
    }
   ],
   "source": [
    "str1.index('a',3,7)"
   ]
  },
  {
   "cell_type": "code",
   "execution_count": 7,
   "id": "4a9bffcb-0970-4588-8dce-59cea10efbc1",
   "metadata": {},
   "outputs": [
    {
     "data": {
      "text/plain": [
       "5"
      ]
     },
     "execution_count": 7,
     "metadata": {},
     "output_type": "execute_result"
    }
   ],
   "source": [
    "str1.index('a',2,6)"
   ]
  },
  {
   "cell_type": "code",
   "execution_count": 9,
   "id": "6912b603-ffd7-4a32-b4e3-a4ecd9938259",
   "metadata": {},
   "outputs": [
    {
     "data": {
      "text/plain": [
       "5"
      ]
     },
     "execution_count": 9,
     "metadata": {},
     "output_type": "execute_result"
    }
   ],
   "source": [
    "str1.index('a',2,7)"
   ]
  },
  {
   "cell_type": "code",
   "execution_count": 13,
   "id": "1ae85660-c51c-45fe-993d-628d61ff054b",
   "metadata": {},
   "outputs": [
    {
     "data": {
      "text/plain": [
       "2"
      ]
     },
     "execution_count": 13,
     "metadata": {},
     "output_type": "execute_result"
    }
   ],
   "source": [
    "str1.index('i',-9,-6)"
   ]
  },
  {
   "cell_type": "code",
   "execution_count": null,
   "id": "eda760a0-ca4d-41e5-a658-b21afa66a398",
   "metadata": {},
   "outputs": [],
   "source": [
    "#string index and count is same ##"
   ]
  },
  {
   "cell_type": "code",
   "execution_count": 14,
   "id": "fb0a3bc3-9194-4806-ba79-118b3291a365",
   "metadata": {},
   "outputs": [
    {
     "name": "stdout",
     "output_type": "stream",
     "text": [
      "3\n"
     ]
    }
   ],
   "source": [
    "print(str1.count('a'))"
   ]
  },
  {
   "cell_type": "code",
   "execution_count": 15,
   "id": "a8192e29-0743-472f-8089-0d4fb5004975",
   "metadata": {},
   "outputs": [
    {
     "name": "stdout",
     "output_type": "stream",
     "text": [
      "2\n"
     ]
    }
   ],
   "source": [
    "print(str1.count('a',3))"
   ]
  },
  {
   "cell_type": "code",
   "execution_count": 16,
   "id": "7b767888-31ac-4e5e-a967-f81b5aa3f824",
   "metadata": {},
   "outputs": [
    {
     "data": {
      "text/plain": [
       "1"
      ]
     },
     "execution_count": 16,
     "metadata": {},
     "output_type": "execute_result"
    }
   ],
   "source": [
    "str1.index('a')"
   ]
  },
  {
   "cell_type": "code",
   "execution_count": 17,
   "id": "46dc6e4c-6eaf-4a8a-9176-2864f121903e",
   "metadata": {},
   "outputs": [
    {
     "data": {
      "text/plain": [
       "5"
      ]
     },
     "execution_count": 17,
     "metadata": {},
     "output_type": "execute_result"
    }
   ],
   "source": [
    "str1.index('a',3)"
   ]
  },
  {
   "cell_type": "code",
   "execution_count": 18,
   "id": "14b6acde-f820-4b1f-ba99-016686a67ae6",
   "metadata": {},
   "outputs": [
    {
     "name": "stdout",
     "output_type": "stream",
     "text": [
      "5\n"
     ]
    }
   ],
   "source": [
    "print(str1.index('a',3,7))"
   ]
  },
  {
   "cell_type": "code",
   "execution_count": 19,
   "id": "d29154a3-f15a-4f08-9299-6f457fd0e5fd",
   "metadata": {},
   "outputs": [
    {
     "name": "stdout",
     "output_type": "stream",
     "text": [
      "1\n"
     ]
    }
   ],
   "source": [
    "print(str1.count('a',3,7))"
   ]
  },
  {
   "cell_type": "code",
   "execution_count": 20,
   "id": "1a465b4f-cc72-4e2d-9672-e9700007d584",
   "metadata": {},
   "outputs": [
    {
     "data": {
      "text/plain": [
       "1"
      ]
     },
     "execution_count": 20,
     "metadata": {},
     "output_type": "execute_result"
    }
   ],
   "source": [
    "str1='hai hai hai hai'\n",
    "#i want all index of a\n",
    "i1=str1.index('a')\n",
    "i1"
   ]
  },
  {
   "cell_type": "code",
   "execution_count": 23,
   "id": "de940654-1733-42a4-b417-7b59866b1c01",
   "metadata": {},
   "outputs": [
    {
     "data": {
      "text/plain": [
       "5"
      ]
     },
     "execution_count": 23,
     "metadata": {},
     "output_type": "execute_result"
    }
   ],
   "source": [
    "i2=str1.index('a',i1+1)\n",
    "i2"
   ]
  },
  {
   "cell_type": "code",
   "execution_count": 26,
   "id": "00026f87-e7be-4f0c-af0d-20cf327b2a5c",
   "metadata": {},
   "outputs": [
    {
     "data": {
      "text/plain": [
       "9"
      ]
     },
     "execution_count": 26,
     "metadata": {},
     "output_type": "execute_result"
    }
   ],
   "source": [
    "i3=str1.index('a',i2+1)\n",
    "i3\n"
   ]
  },
  {
   "cell_type": "code",
   "execution_count": 43,
   "id": "fdd2c3de-6add-4002-a933-3abb2c53c19a",
   "metadata": {},
   "outputs": [
    {
     "name": "stdout",
     "output_type": "stream",
     "text": [
      "13\n"
     ]
    }
   ],
   "source": [
    "str1='hai hai hai hai'\n",
    "i4=str1.index('a',i3+1)\n",
    "print(i4)\n"
   ]
  },
  {
   "cell_type": "code",
   "execution_count": null,
   "id": "1ac1a7c0-740f-4394-92ce-2548ff9778f6",
   "metadata": {},
   "outputs": [],
   "source": [
    "#how work impletation above logic to get all index"
   ]
  },
  {
   "cell_type": "code",
   "execution_count": 36,
   "id": "8953de87-8630-49b8-9027-d172ef0bdfae",
   "metadata": {},
   "outputs": [
    {
     "data": {
      "text/plain": [
       "1"
      ]
     },
     "execution_count": 36,
     "metadata": {},
     "output_type": "execute_result"
    }
   ],
   "source": [
    "#find#\n",
    "i1=str1.find('a')\n",
    "i1"
   ]
  },
  {
   "cell_type": "code",
   "execution_count": 37,
   "id": "ea397251-83ae-4464-b765-d7c4cca47070",
   "metadata": {},
   "outputs": [
    {
     "data": {
      "text/plain": [
       "5"
      ]
     },
     "execution_count": 37,
     "metadata": {},
     "output_type": "execute_result"
    }
   ],
   "source": [
    "i2=str1.find('a',i1+1)\n",
    "i2"
   ]
  },
  {
   "cell_type": "code",
   "execution_count": 38,
   "id": "622ed693-0609-4dc8-b2c2-87b941edbd69",
   "metadata": {},
   "outputs": [
    {
     "data": {
      "text/plain": [
       "9"
      ]
     },
     "execution_count": 38,
     "metadata": {},
     "output_type": "execute_result"
    }
   ],
   "source": [
    "i3=str1.find('a',i2+1)\n",
    "i3"
   ]
  },
  {
   "cell_type": "code",
   "execution_count": 40,
   "id": "f65d9fc8-6775-4d2e-97f8-8630913fc34b",
   "metadata": {},
   "outputs": [
    {
     "data": {
      "text/plain": [
       "-1"
      ]
     },
     "execution_count": 40,
     "metadata": {},
     "output_type": "execute_result"
    }
   ],
   "source": [
    "i4=str1.find('a',i3+1)\n",
    "i4"
   ]
  },
  {
   "cell_type": "code",
   "execution_count": null,
   "id": "3532c7b3-032c-4bc2-8c15-b8bdee55d1d7",
   "metadata": {},
   "outputs": [],
   "source": [
    "str1.index()#rise the value error when sub string not found \n",
    "str1.find()"
   ]
  },
  {
   "cell_type": "code",
   "execution_count": 45,
   "id": "b11e9c57-c5c1-467b-804f-e7f95bdfb94f",
   "metadata": {},
   "outputs": [
    {
     "data": {
      "text/plain": [
       "'hai hai  hai'"
      ]
     },
     "execution_count": 45,
     "metadata": {},
     "output_type": "execute_result"
    }
   ],
   "source": [
    "str1='hai hai  hai'\n",
    "str1.replace('z','z')"
   ]
  },
  {
   "cell_type": "code",
   "execution_count": 46,
   "id": "b20be223-23f1-40f2-b043-46050f46d3ad",
   "metadata": {},
   "outputs": [
    {
     "ename": "TypeError",
     "evalue": "replace expected at least 2 arguments, got 1",
     "output_type": "error",
     "traceback": [
      "\u001b[1;31m---------------------------------------------------------------------------\u001b[0m",
      "\u001b[1;31mTypeError\u001b[0m                                 Traceback (most recent call last)",
      "Cell \u001b[1;32mIn[46], line 1\u001b[0m\n\u001b[1;32m----> 1\u001b[0m str1\u001b[38;5;241m.\u001b[39mreplace(\u001b[38;5;124m'\u001b[39m\u001b[38;5;124mz\u001b[39m\u001b[38;5;124m'\u001b[39m)\n",
      "\u001b[1;31mTypeError\u001b[0m: replace expected at least 2 arguments, got 1"
     ]
    }
   ],
   "source": [
    "str1.replace('z')"
   ]
  },
  {
   "cell_type": "code",
   "execution_count": null,
   "id": "792f9624-be47-4eb0-b074-62c36675068c",
   "metadata": {},
   "outputs": [],
   "source": [
    "-if sub string found \n",
    "-count method wil give zero\n",
    "-replace method will give original string\n",
    "-index wil give sub string not found error \n",
    "-find wil give -1"
   ]
  },
  {
   "cell_type": "code",
   "execution_count": 55,
   "id": "c8c6acad-12ed-42f1-a597-966edc818e4d",
   "metadata": {
    "scrolled": true
   },
   "outputs": [
    {
     "data": {
      "text/plain": [
       "('omkar', 'nallagoni', 'cognizant')"
      ]
     },
     "execution_count": 55,
     "metadata": {},
     "output_type": "execute_result"
    }
   ],
   "source": [
    "str1='omkar.nallagoni@cognizant.com'\n",
    "i1=str1.index('.')\n",
    "i2=str1.index('@')\n",
    "i3=str1.index('.',i1+1)\n",
    "first_name=str1[:i1]\n",
    "second_name=str1[i1+1:i2]\n",
    "cname=str1[i2+1:i3]\n",
    "first_name,second_name,cname\n"
   ]
  },
  {
   "cell_type": "code",
   "execution_count": null,
   "id": "3c495ca6-3f18-4354-b04b-a1cdbfc990d2",
   "metadata": {},
   "outputs": [],
   "source": [
    "-upper/lower/caseflod\n",
    "-capitalize/title\n",
    "-count\n",
    "-replace\n",
    "-center\n",
    "index/find\n",
    "-start with is "
   ]
  },
  {
   "cell_type": "code",
   "execution_count": null,
   "id": "146232b0-493b-4a17-b90e-dd07c0160e17",
   "metadata": {},
   "outputs": [],
   "source": [
    "-split\n",
    "-strio/lstrip/rstrip\n",
    "-startswithlendswith\\"
   ]
  },
  {
   "cell_type": "code",
   "execution_count": 1,
   "id": "e82eed7b-752b-4090-854f-89ec6f9fd239",
   "metadata": {},
   "outputs": [
    {
     "name": "stdout",
     "output_type": "stream",
     "text": [
      "30\n"
     ]
    }
   ],
   "source": [
    "a=10\n",
    "b=20\n",
    "c=a+b\n",
    "print(c)"
   ]
  },
  {
   "cell_type": "code",
   "execution_count": 1,
   "id": "eef09734-1fa8-4d9c-b606-bee27e148ad0",
   "metadata": {},
   "outputs": [
    {
     "name": "stdout",
     "output_type": "stream",
     "text": [
      "30\n"
     ]
    }
   ],
   "source": [
    "a=10\n",
    "b=20\n",
    "c=a+b\n",
    "print(c)"
   ]
  },
  {
   "cell_type": "code",
   "execution_count": null,
   "id": "0553cb53-d146-4b15-bea3-e7f47cd4623e",
   "metadata": {},
   "outputs": [],
   "source": []
  }
 ],
 "metadata": {
  "kernelspec": {
   "display_name": "Python 3 (ipykernel)",
   "language": "python",
   "name": "python3"
  },
  "language_info": {
   "codemirror_mode": {
    "name": "ipython",
    "version": 3
   },
   "file_extension": ".py",
   "mimetype": "text/x-python",
   "name": "python",
   "nbconvert_exporter": "python",
   "pygments_lexer": "ipython3",
   "version": "3.11.7"
  }
 },
 "nbformat": 4,
 "nbformat_minor": 5
}
